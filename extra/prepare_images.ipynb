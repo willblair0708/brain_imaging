{
 "cells": [
  {
   "cell_type": "code",
   "execution_count": 1,
   "metadata": {},
   "outputs": [
    {
     "ename": "FileNotFoundError",
     "evalue": "No such file or no access: 'E03/output/T2w_1mm_noalign.nii.gz'",
     "output_type": "error",
     "traceback": [
      "\u001b[0;31m---------------------------------------------------------------------------\u001b[0m",
      "\u001b[0;31mFileNotFoundError\u001b[0m                         Traceback (most recent call last)",
      "File \u001b[0;32m~/williamblair/miniconda/envs/tensorflow/lib/python3.8/site-packages/nibabel/loadsave.py:100\u001b[0m, in \u001b[0;36mload\u001b[0;34m(filename, **kwargs)\u001b[0m\n\u001b[1;32m     99\u001b[0m \u001b[39mtry\u001b[39;00m:\n\u001b[0;32m--> 100\u001b[0m     stat_result \u001b[39m=\u001b[39m os\u001b[39m.\u001b[39;49mstat(filename)\n\u001b[1;32m    101\u001b[0m \u001b[39mexcept\u001b[39;00m \u001b[39mOSError\u001b[39;00m:\n",
      "\u001b[0;31mFileNotFoundError\u001b[0m: [Errno 2] No such file or directory: 'E03/output/T2w_1mm_noalign.nii.gz'",
      "\nDuring handling of the above exception, another exception occurred:\n",
      "\u001b[0;31mFileNotFoundError\u001b[0m                         Traceback (most recent call last)",
      "Cell \u001b[0;32mIn[1], line 62\u001b[0m\n\u001b[1;32m     59\u001b[0m     os\u001b[39m.\u001b[39mchdir(\u001b[39m'\u001b[39m\u001b[39mcode\u001b[39m\u001b[39m'\u001b[39m)\n\u001b[1;32m     61\u001b[0m \u001b[39mif\u001b[39;00m \u001b[39m__name__\u001b[39m \u001b[39m==\u001b[39m \u001b[39m\"\u001b[39m\u001b[39m__main__\u001b[39m\u001b[39m\"\u001b[39m:\n\u001b[0;32m---> 62\u001b[0m     main()\n",
      "Cell \u001b[0;32mIn[1], line 51\u001b[0m, in \u001b[0;36mmain\u001b[0;34m()\u001b[0m\n\u001b[1;32m     48\u001b[0m os\u001b[39m.\u001b[39mmakedirs(os\u001b[39m.\u001b[39mpath\u001b[39m.\u001b[39mdirname(output_image_path), exist_ok\u001b[39m=\u001b[39m\u001b[39mTrue\u001b[39;00m)\n\u001b[1;32m     50\u001b[0m \u001b[39m# Perform min-max normalization\u001b[39;00m\n\u001b[0;32m---> 51\u001b[0m normalized_img \u001b[39m=\u001b[39m min_max_normalize(input_image_path)\n\u001b[1;32m     52\u001b[0m nib\u001b[39m.\u001b[39msave(normalized_img, output_image_path)\n\u001b[1;32m     54\u001b[0m \u001b[39m# Perform affine registration\u001b[39;00m\n",
      "Cell \u001b[0;32mIn[1], line 11\u001b[0m, in \u001b[0;36mmin_max_normalize\u001b[0;34m(input_image_path)\u001b[0m\n\u001b[1;32m     10\u001b[0m \u001b[39mdef\u001b[39;00m \u001b[39mmin_max_normalize\u001b[39m(input_image_path):\n\u001b[0;32m---> 11\u001b[0m     img \u001b[39m=\u001b[39m nib\u001b[39m.\u001b[39;49mload(input_image_path)\n\u001b[1;32m     12\u001b[0m     img_data \u001b[39m=\u001b[39m img\u001b[39m.\u001b[39mget_fdata()\n\u001b[1;32m     13\u001b[0m     img_data_normalized \u001b[39m=\u001b[39m (img_data \u001b[39m-\u001b[39m np\u001b[39m.\u001b[39mmin(img_data)) \u001b[39m/\u001b[39m (np\u001b[39m.\u001b[39mmax(img_data) \u001b[39m-\u001b[39m np\u001b[39m.\u001b[39mmin(img_data))\n",
      "File \u001b[0;32m~/williamblair/miniconda/envs/tensorflow/lib/python3.8/site-packages/nibabel/loadsave.py:102\u001b[0m, in \u001b[0;36mload\u001b[0;34m(filename, **kwargs)\u001b[0m\n\u001b[1;32m    100\u001b[0m     stat_result \u001b[39m=\u001b[39m os\u001b[39m.\u001b[39mstat(filename)\n\u001b[1;32m    101\u001b[0m \u001b[39mexcept\u001b[39;00m \u001b[39mOSError\u001b[39;00m:\n\u001b[0;32m--> 102\u001b[0m     \u001b[39mraise\u001b[39;00m \u001b[39mFileNotFoundError\u001b[39;00m(\u001b[39mf\u001b[39m\u001b[39m\"\u001b[39m\u001b[39mNo such file or no access: \u001b[39m\u001b[39m'\u001b[39m\u001b[39m{\u001b[39;00mfilename\u001b[39m}\u001b[39;00m\u001b[39m'\u001b[39m\u001b[39m\"\u001b[39m)\n\u001b[1;32m    103\u001b[0m \u001b[39mif\u001b[39;00m stat_result\u001b[39m.\u001b[39mst_size \u001b[39m<\u001b[39m\u001b[39m=\u001b[39m \u001b[39m0\u001b[39m:\n\u001b[1;32m    104\u001b[0m     \u001b[39mraise\u001b[39;00m ImageFileError(\u001b[39mf\u001b[39m\u001b[39m\"\u001b[39m\u001b[39mEmpty file: \u001b[39m\u001b[39m'\u001b[39m\u001b[39m{\u001b[39;00mfilename\u001b[39m}\u001b[39;00m\u001b[39m'\u001b[39m\u001b[39m\"\u001b[39m)\n",
      "\u001b[0;31mFileNotFoundError\u001b[0m: No such file or no access: 'E03/output/T2w_1mm_noalign.nii.gz'"
     ]
    }
   ],
   "source": [
    "import os\n",
    "import subprocess\n",
    "import nibabel as nib\n",
    "import numpy as np\n",
    "from nilearn import plotting\n",
    "import matplotlib.pyplot as plt\n",
    "\n",
    "root_dir = os.path.abspath(os.path.join(os.getcwd(), os.pardir))\n",
    "\n",
    "def min_max_normalize(input_image_path):\n",
    "    img = nib.load(input_image_path)\n",
    "    img_data = img.get_fdata()\n",
    "    img_data_normalized = (img_data - np.min(img_data)) / (np.max(img_data) - np.min(img_data))\n",
    "    return nib.Nifti1Image(img_data_normalized, img.affine)\n",
    "\n",
    "def affine_registration(input_image_path, output_image_path, reference_image_path):\n",
    "    output_prefix = os.path.splitext(os.path.splitext(output_image_path)[0])[0]\n",
    "\n",
    "    # Run antsRegistration\n",
    "    command = f\"antsRegistrationSyN.sh -d 3 -f {reference_image_path} -m {input_image_path} -o {output_prefix}_ -t a\"\n",
    "    subprocess.run(command, shell=True)\n",
    "\n",
    "    # Rename the output image file\n",
    "    os.rename(f\"{output_prefix}_Warped.nii.gz\", output_image_path)\n",
    "\n",
    "def main():\n",
    "    # Change the working directory to the \"data\" folder\n",
    "    os.chdir('../data/input')\n",
    "\n",
    "    # Get the list of patient folders\n",
    "    patient_folders = [folder for folder in os.listdir() if os.path.isdir(folder) and folder.startswith('E')]\n",
    "\n",
    "    reference_image_path = 'path/to/reference/image.nii.gz'  # Replace with the path to your reference image\n",
    "\n",
    "    input_image_filenames = [\n",
    "        'T2w_1mm_noalign.nii.gz',\n",
    "        'T1w_1mm.nii.gz',\n",
    "        'ADC_deformed.nii.gz',\n",
    "        'FA_deformed.nii.gz'\n",
    "    ]\n",
    "\n",
    "    for patient_folder in patient_folders:\n",
    "        for input_image_filename in input_image_filenames:\n",
    "            input_image_path = os.path.join(patient_folder, 'output', input_image_filename)\n",
    "            output_image_path = os.path.join(patient_folder, 'normalized', input_image_filename)\n",
    "\n",
    "            # Create the \"normalized\" subfolder in each patient folder if it doesn't exist\n",
    "            os.makedirs(os.path.dirname(output_image_path), exist_ok=True)\n",
    "\n",
    "            # Perform min-max normalization\n",
    "            normalized_img = min_max_normalize(input_image_path)\n",
    "            nib.save(normalized_img, output_image_path)\n",
    "\n",
    "            # Perform affine registration\n",
    "            affine_registration(output_image_path, output_image_path, reference_image_path)\n",
    "\n",
    "    # Change back to the code directory\n",
    "    os.chdir(os.path.join(os.getcwd(), os.pardir))\n",
    "    os.chdir('code')\n",
    "\n",
    "if __name__ == \"__main__\":\n",
    "    main()"
   ]
  }
 ],
 "metadata": {
  "kernelspec": {
   "display_name": "Python 3",
   "language": "python",
   "name": "python3"
  },
  "language_info": {
   "codemirror_mode": {
    "name": "ipython",
    "version": 3
   },
   "file_extension": ".py",
   "mimetype": "text/x-python",
   "name": "python",
   "nbconvert_exporter": "python",
   "pygments_lexer": "ipython3",
   "version": "3.8.16"
  },
  "orig_nbformat": 4
 },
 "nbformat": 4,
 "nbformat_minor": 2
}
