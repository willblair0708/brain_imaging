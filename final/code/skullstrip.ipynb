import os
import subprocess
import os
import shlex
import subprocess
import multiprocessing as mp
from nilearn import plotting
import matplotlib
import matplotlib.pyplot as plt
import nibabel as nib

root_dir = os.path.abspath(os.path.join(os.getcwd(), os.pardir))

def main():
    # Change the working directory to the "data" folder
    os.chdir('../data/input')

    # Get the list of patient folders
    patient_folders = [folder for folder in os.listdir() if os.path.isdir(folder)]

    # Run BET on each patient folder for each input image and save the output with the same name
    for patient_folder in patient_folders:
        input_folder = os.path.abspath(patient_folder)
        output_folder = os.path.abspath(os.path.join("..","output",patient_folder))

        # Only run hd-bet if the output folder is empty
        if not os.path.exists(output_folder) or not os.listdir(output_folder):
            # Update the command with the full path to the HD-BET package
            hd_bet_path = os.path.join('..','..','code', 'HD-BET', 'HD_BET','hd-bet')
            abs_hd_bet_path = os.path.abspath(hd_bet_path)
            print(abs_hd_bet_path)
            command = f'{hd_bet_path} -i "{input_folder}" -o "{output_folder}"'
            subprocess.run(command, shell=True)
        else:
            print(f"Output folder {output_folder} is not empty, skipping hd-bet")

if __name__ == "__main__":
    main()

def display_image(input_image_file, output_image_file, title):
    """
    Display NIfTI image using nilearn.
    
    Args:
        input_image_file (str): Path to the original NIfTI file.
        output_image_file (str): Path to the skull-stripped NIfTI file.
        title (str): Title of the plot.
    """
    plotting.plot_anat(input_image_file, title=title + " Original", display_mode='ortho')
    plotting.plot_anat(output_image_file, title=title + " Skull Stripped", display_mode='ortho')
    plotting.show()

display_image(os.path.join(root_dir, 'data', 'input', 'E06', "T2w_1mm_noalign.nii.gz"),
              os.path.join(root_dir, 'data', 'output', 'E06', "T2w_1mm_noalign.nii.gz"),
              "T2w")

display_image(os.path.join(root_dir, 'data', 'input', 'E06', "T1w_1mm.nii.gz"),
              os.path.join(root_dir, 'data', 'output', 'E06', "T1w_1mm.nii.gz"),
              "T1w")

display_image(os.path.join(root_dir, 'data', 'input', 'E06', "ADC_deformed.nii.gz"),
              os.path.join(root_dir, 'data', 'output', 'E06', "ADC_deformed.nii.gz"),
              "ADC")

display_image(os.path.join(root_dir, 'data', 'input', 'E06', "FA_deformed.nii.gz"),
              os.path.join(root_dir, 'data', 'output', 'E06', "FA_deformed.nii.gz"),
              "FA")


#change back to code directory
os.chdir('..')
os.chdir('..')
os.chdir('code')
