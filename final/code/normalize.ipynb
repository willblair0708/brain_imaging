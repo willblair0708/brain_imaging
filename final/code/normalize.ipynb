!pip install SimpleITK
import os
import glob
import SimpleITK as sitk

def normalize_image_intensity(image):
    """
    Normalize the intensities of a given image to the range [0, 1].
    
    Args:
        image (SimpleITK.Image): Input image.
        
    Returns:
        SimpleITK.Image: Normalized image.
    """
    image_array = sitk.GetArrayFromImage(image)
    min_intensity = image_array.min()
    max_intensity = image_array.max()

    return (image - min_intensity) / (max_intensity - min_intensity)

def main():
    # Set the working directory to the "data/input" folder
    os.chdir('../data/output')
    
    # Get the list of patient folders
    patient_folders = [folder for folder in os.listdir()]
    
    for patient_folder in patient_folders:
        if patient_folder.startswith('E'):
            input_folder = os.path.abspath(patient_folder)
                
            # Read the reference image (T1w_1mm.nii.gz)
            reference_image_file = os.path.join(patient_folder, 'T1w_1mm.nii.gz')
            reference_image = sitk.ReadImage(reference_image_file)
            
            # Process each modality
            for modality in ['T2w_1mm_noalign','FA_deformed.nii.gz','ADC_deformed.nii.gz' ]:
                input_image_file = os.path.join(input_folder, f'{modality}.nii.gz')
                image = sitk.ReadImage(input_image_file)

                # Normalize the input image
                normalized_image = normalize_image_intensity(image)

                # Save the output image
                output_folder = os.path.join(input_folder, "normalized")
                os.makedirs(output_folder, exist_ok=True)
                output_image_file = os.path.join(output_folder, f'{modality}_normalized.nii.gz')
                sitk.WriteImage(normalized_image, output_image_file)

if __name__ == "__main__":
    main()
