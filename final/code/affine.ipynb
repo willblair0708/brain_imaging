import os
import SimpleITK as sitk

root_dir = os.path.abspath(os.path.join(os.getcwd(), os.pardir))

def register_images(fixed_image_path, moving_image_path, output_image_path):
    while True:
        try:
            fixed_image = sitk.ReadImage(fixed_image_path, sitk.sitkFloat32)
            moving_image = sitk.ReadImage(moving_image_path, sitk.sitkFloat32)

            print(f"Registering images: {fixed_image_path}, {moving_image_path}")

            # Affine registration
            initial_transform = sitk.CenteredTransformInitializer(fixed_image, moving_image, sitk.AffineTransform(fixed_image.GetDimension()))
            registration_method = sitk.ImageRegistrationMethod()
            registration_method.SetInitialTransform(initial_transform)
            registration_method.SetMetricAsMattesMutualInformation(numberOfHistogramBins=50)
            registration_method.SetMetricSamplingStrategy(registration_method.RANDOM)
            registration_method.SetMetricSamplingPercentage(0.01)
            registration_method.SetInterpolator(sitk.sitkLinear)
            registration_method.SetOptimizerAsGradientDescent(learningRate=1.0, numberOfIterations=100)
            registration_method.SetOptimizerScalesFromPhysicalShift()
            registration_method.SetShrinkFactorsPerLevel(shrinkFactors=[4, 2, 1])
            registration_method.SetSmoothingSigmasPerLevel(smoothingSigmas=[2, 1, 0])
            registration_method.SmoothingSigmasAreSpecifiedInPhysicalUnitsOn()

            final_transform = registration_method.Execute(sitk.Cast(fixed_image, sitk.sitkFloat32), sitk.Cast(moving_image, sitk.sitkFloat32))

            resampled_image = sitk.Resample(moving_image, fixed_image, final_transform, sitk.sitkLinear, 0.0, moving_image.GetPixelID())
            
            # Save the registered image
            sitk.WriteImage(resampled_image, output_image_path)
            
            break  # Registration successful, exit the loop
        except Exception as e:
            print(f"Error processing files: {fixed_image_path}, {moving_image_path}. Error: {str(e)}")

def main():
    # Change the working directory to the "data" folder
    os.chdir('../data/output')

    # Limit to patient folders 'E01' to 'E30'
    for i in range(1, 31):
        patient_folder = f"E{i:02d}"  # Format the folder name with leading zeros

        output_folder = os.path.abspath(patient_folder)

        # Create the output folder for the registered images
        registered_output_folder = os.path.join(output_folder, "registered")
        os.makedirs(registered_output_folder, exist_ok=True)

        t1w_image_path = os.path.join(output_folder, "normalized", "T1w_1mm_normalized.nii.gz")
        t2w_image_path = os.path.join(output_folder, "normalized", "T2w_1mm_noalign_normalized.nii.gz")
        FA_image_path = os.path.join(output_folder, "normalized", "FA_deformed_normalized.nii.gz")
        ADC_image_path = os.path.join(output_folder, "normalized", "ADC_deformed_normalized.nii.gz")

        registered_t2w_image_path = os.path.join(registered_output_folder, "T2w_align.nii.gz")
        registered_fa_image_path = os.path.join(registered_output_folder, "FA_affine.nii.gz")
        registered_adc_image_path = os.path.join(registered_output_folder, "ADC_affine.nii.gz")

        register_images(t1w_image_path, t2w_image_path, registered_t2w_image_path)

if __name__ == "__main__":
    main()

