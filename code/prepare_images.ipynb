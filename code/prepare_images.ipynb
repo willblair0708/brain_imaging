{
 "cells": [
  {
   "cell_type": "code",
   "execution_count": 1,
   "metadata": {},
   "outputs": [
    {
     "name": "stderr",
     "output_type": "stream",
     "text": [
      "/bin/sh: antsRegistrationSyN.sh: command not found\n"
     ]
    },
    {
     "ename": "FileNotFoundError",
     "evalue": "[Errno 2] No such file or directory: 'E03/normalized/T2w_1mm_noalign_Warped.nii.gz' -> 'E03/normalized/T2w_1mm_noalign.nii.gz'",
     "output_type": "error",
     "traceback": [
      "\u001b[0;31m---------------------------------------------------------------------------\u001b[0m",
      "\u001b[0;31mFileNotFoundError\u001b[0m                         Traceback (most recent call last)",
      "Cell \u001b[0;32mIn[1], line 58\u001b[0m\n\u001b[1;32m     55\u001b[0m             affine_registration(output_image_path, output_image_path, reference_image_path)\n\u001b[1;32m     57\u001b[0m \u001b[39mif\u001b[39;00m \u001b[39m__name__\u001b[39m \u001b[39m==\u001b[39m \u001b[39m\"\u001b[39m\u001b[39m__main__\u001b[39m\u001b[39m\"\u001b[39m:\n\u001b[0;32m---> 58\u001b[0m     main()\n\u001b[1;32m     60\u001b[0m \u001b[39m#change back to code directory\u001b[39;00m\n\u001b[1;32m     61\u001b[0m os\u001b[39m.\u001b[39mchdir(\u001b[39m'\u001b[39m\u001b[39m..\u001b[39m\u001b[39m'\u001b[39m)\n",
      "Cell \u001b[0;32mIn[1], line 55\u001b[0m, in \u001b[0;36mmain\u001b[0;34m()\u001b[0m\n\u001b[1;32m     52\u001b[0m nib\u001b[39m.\u001b[39msave(normalized_img, output_image_path)\n\u001b[1;32m     54\u001b[0m \u001b[39m# Perform affine registration\u001b[39;00m\n\u001b[0;32m---> 55\u001b[0m affine_registration(output_image_path, output_image_path, reference_image_path)\n",
      "Cell \u001b[0;32mIn[1], line 24\u001b[0m, in \u001b[0;36maffine_registration\u001b[0;34m(input_image_path, output_image_path, reference_image_path)\u001b[0m\n\u001b[1;32m     21\u001b[0m subprocess\u001b[39m.\u001b[39mrun(command, shell\u001b[39m=\u001b[39m\u001b[39mTrue\u001b[39;00m)\n\u001b[1;32m     23\u001b[0m \u001b[39m# Rename the output image file\u001b[39;00m\n\u001b[0;32m---> 24\u001b[0m os\u001b[39m.\u001b[39;49mrename(\u001b[39mf\u001b[39;49m\u001b[39m\"\u001b[39;49m\u001b[39m{\u001b[39;49;00moutput_prefix\u001b[39m}\u001b[39;49;00m\u001b[39m_Warped.nii.gz\u001b[39;49m\u001b[39m\"\u001b[39;49m, output_image_path)\n",
      "\u001b[0;31mFileNotFoundError\u001b[0m: [Errno 2] No such file or directory: 'E03/normalized/T2w_1mm_noalign_Warped.nii.gz' -> 'E03/normalized/T2w_1mm_noalign.nii.gz'"
     ]
    }
   ],
   "source": [
    "import os\n",
    "import subprocess\n",
    "import nibabel as nib\n",
    "import numpy as np\n",
    "from nilearn import plotting\n",
    "import matplotlib.pyplot as plt\n",
    "\n",
    "root_dir = os.path.abspath(os.path.join(os.getcwd(), os.pardir))\n",
    "\n",
    "def min_max_normalize(input_image_path):\n",
    "    img = nib.load(input_image_path)\n",
    "    img_data = img.get_fdata()\n",
    "    img_data_normalized = (img_data - np.min(img_data)) / (np.max(img_data) - np.min(img_data))\n",
    "    return nib.Nifti1Image(img_data_normalized, img.affine)\n",
    "\n",
    "def affine_registration(input_image_path, output_image_path, reference_image_path):\n",
    "    output_prefix = os.path.splitext(os.path.splitext(output_image_path)[0])[0]\n",
    "\n",
    "    # Run antsRegistration\n",
    "    command = f\"antsRegistrationSyN.sh -d 3 -f {reference_image_path} -m {input_image_path} -o {output_prefix}_ -t a\"\n",
    "    subprocess.run(command, shell=True)\n",
    "\n",
    "    # Rename the output image file\n",
    "    os.rename(f\"{output_prefix}_Warped.nii.gz\", output_image_path)\n",
    "\n",
    "def main():\n",
    "    # Change the working directory to the \"data\" folder\n",
    "    os.chdir('../data/input')\n",
    "\n",
    "    # Get the list of patient folders\n",
    "    patient_folders = [folder for folder in os.listdir() if os.path.isdir(folder) and folder.startswith('E')]\n",
    "\n",
    "    reference_image_path = 'path/to/reference/image.nii.gz'  # Replace with the path to your reference image\n",
    "\n",
    "    input_image_filenames = [\n",
    "        'T2w_1mm_noalign.nii.gz',\n",
    "        'T1w_1mm.nii.gz',\n",
    "        'ADC_deformed.nii.gz',\n",
    "        'FA_deformed.nii.gz'\n",
    "    ]\n",
    "\n",
    "    for patient_folder in patient_folders:\n",
    "        for input_image_filename in input_image_filenames:\n",
    "            input_image_path = os.path.join(patient_folder, 'output', input_image_filename)\n",
    "            output_image_path = os.path.join(patient_folder, 'normalized', input_image_filename)\n",
    "\n",
    "            # Create the \"normalized\" subfolder in each patient folder if it doesn't exist\n",
    "            os.makedirs(os.path.dirname(output_image_path), exist_ok=True)\n",
    "\n",
    "            # Perform min-max normalization\n",
    "            normalized_img = min_max_normalize(input_image_path)\n",
    "            nib.save(normalized_img, output_image_path)\n",
    "\n",
    "            # Perform affine registration\n",
    "            affine_registration(output_image_path, output_image_path, reference_image_path)\n",
    "\n",
    "if __name__ == \"__main__\":\n",
    "    main()\n",
    "\n",
    "#change back to code directory\n",
    "os.chdir('..')\n",
    "os.chdir('..')\n",
    "os.chdir('code')"
   ]
  }
 ],
 "metadata": {
  "kernelspec": {
   "display_name": "Python 3",
   "language": "python",
   "name": "python3"
  },
  "language_info": {
   "codemirror_mode": {
    "name": "ipython",
    "version": 3
   },
   "file_extension": ".py",
   "mimetype": "text/x-python",
   "name": "python",
   "nbconvert_exporter": "python",
   "pygments_lexer": "ipython3",
   "version": "3.10.10"
  },
  "orig_nbformat": 4
 },
 "nbformat": 4,
 "nbformat_minor": 2
}
