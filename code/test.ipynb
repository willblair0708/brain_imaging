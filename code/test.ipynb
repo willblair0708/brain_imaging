{
 "cells": [
  {
   "cell_type": "code",
   "execution_count": 1,
   "metadata": {},
   "outputs": [
    {
     "name": "stdout",
     "output_type": "stream",
     "text": [
      "Image size: (160, 160, 192)\n"
     ]
    },
    {
     "ename": "TypeError",
     "evalue": "Data given cannot be loaded because it is not compatible with nibabel format:\n0",
     "output_type": "error",
     "traceback": [
      "\u001b[1;31m---------------------------------------------------------------------------\u001b[0m",
      "\u001b[1;31mTypeError\u001b[0m                                 Traceback (most recent call last)",
      "Cell \u001b[1;32mIn[1], line 40\u001b[0m\n\u001b[0;32m     37\u001b[0m \u001b[39m# Print the size of the image\u001b[39;00m\n\u001b[0;32m     38\u001b[0m \u001b[39mprint\u001b[39m(\u001b[39m'\u001b[39m\u001b[39mImage size:\u001b[39m\u001b[39m'\u001b[39m, size)\n\u001b[1;32m---> 40\u001b[0m display_image(image1, \u001b[39m'\u001b[39;49m\u001b[39moriginal\u001b[39;49m\u001b[39m'\u001b[39;49m)\n\u001b[0;32m     42\u001b[0m \u001b[39m# Load the image\u001b[39;00m\n\u001b[0;32m     43\u001b[0m image2 \u001b[39m=\u001b[39m sitk\u001b[39m.\u001b[39mReadImage(\u001b[39m'\u001b[39m\u001b[39m../data/input/output/E03/T1w_1mm.nii.gz\u001b[39m\u001b[39m'\u001b[39m)\n",
      "Cell \u001b[1;32mIn[1], line 21\u001b[0m, in \u001b[0;36mdisplay_image\u001b[1;34m(input_image_file, title)\u001b[0m\n\u001b[0;32m     12\u001b[0m \u001b[39mdef\u001b[39;00m \u001b[39mdisplay_image\u001b[39m(input_image_file, title):\n\u001b[0;32m     13\u001b[0m \u001b[39m    \u001b[39m\u001b[39m\"\"\"\u001b[39;00m\n\u001b[0;32m     14\u001b[0m \u001b[39m    Display NIfTI image using nilearn.\u001b[39;00m\n\u001b[0;32m     15\u001b[0m \u001b[39m    \u001b[39;00m\n\u001b[1;32m   (...)\u001b[0m\n\u001b[0;32m     19\u001b[0m \u001b[39m        title (str): Title of the plot.\u001b[39;00m\n\u001b[0;32m     20\u001b[0m \u001b[39m    \"\"\"\u001b[39;00m\n\u001b[1;32m---> 21\u001b[0m     plotting\u001b[39m.\u001b[39;49mplot_anat(input_image_file, title\u001b[39m=\u001b[39;49mtitle \u001b[39m+\u001b[39;49m \u001b[39m\"\u001b[39;49m\u001b[39m Original\u001b[39;49m\u001b[39m\"\u001b[39;49m, display_mode\u001b[39m=\u001b[39;49m\u001b[39m'\u001b[39;49m\u001b[39mortho\u001b[39;49m\u001b[39m'\u001b[39;49m)\n\u001b[0;32m     22\u001b[0m     plotting\u001b[39m.\u001b[39mshow()\n",
      "File \u001b[1;32mc:\\Users\\keert\\project2\\mia38\\lib\\site-packages\\nilearn\\plotting\\img_plotting.py:463\u001b[0m, in \u001b[0;36mplot_anat\u001b[1;34m(anat_img, cut_coords, output_file, display_mode, figure, axes, title, annotate, threshold, draw_cross, black_bg, dim, cmap, colorbar, cbar_tick_format, vmin, vmax, **kwargs)\u001b[0m\n\u001b[0;32m    413\u001b[0m \u001b[39m@fill_doc\u001b[39m\n\u001b[0;32m    414\u001b[0m \u001b[39mdef\u001b[39;00m \u001b[39mplot_anat\u001b[39m(anat_img\u001b[39m=\u001b[39mMNI152TEMPLATE, cut_coords\u001b[39m=\u001b[39m\u001b[39mNone\u001b[39;00m,\n\u001b[0;32m    415\u001b[0m               output_file\u001b[39m=\u001b[39m\u001b[39mNone\u001b[39;00m, display_mode\u001b[39m=\u001b[39m\u001b[39m'\u001b[39m\u001b[39mortho\u001b[39m\u001b[39m'\u001b[39m, figure\u001b[39m=\u001b[39m\u001b[39mNone\u001b[39;00m,\n\u001b[1;32m   (...)\u001b[0m\n\u001b[0;32m    418\u001b[0m               colorbar\u001b[39m=\u001b[39m\u001b[39mFalse\u001b[39;00m, cbar_tick_format\u001b[39m=\u001b[39m\u001b[39m\"\u001b[39m\u001b[39m%.2g\u001b[39;00m\u001b[39m\"\u001b[39m, vmin\u001b[39m=\u001b[39m\u001b[39mNone\u001b[39;00m,\n\u001b[0;32m    419\u001b[0m               vmax\u001b[39m=\u001b[39m\u001b[39mNone\u001b[39;00m, \u001b[39m*\u001b[39m\u001b[39m*\u001b[39mkwargs):\n\u001b[0;32m    420\u001b[0m \u001b[39m    \u001b[39m\u001b[39m\"\"\"Plot cuts of an anatomical image (by default 3 cuts:\u001b[39;00m\n\u001b[0;32m    421\u001b[0m \u001b[39m    Frontal, Axial, and Lateral)\u001b[39;00m\n\u001b[0;32m    422\u001b[0m \n\u001b[1;32m   (...)\u001b[0m\n\u001b[0;32m    461\u001b[0m \n\u001b[0;32m    462\u001b[0m \u001b[39m    \"\"\"\u001b[39;00m\n\u001b[1;32m--> 463\u001b[0m     anat_img, black_bg, anat_vmin, anat_vmax \u001b[39m=\u001b[39m _load_anat(\n\u001b[0;32m    464\u001b[0m         anat_img,\n\u001b[0;32m    465\u001b[0m         dim\u001b[39m=\u001b[39;49mdim, black_bg\u001b[39m=\u001b[39;49mblack_bg)\n\u001b[0;32m    467\u001b[0m     \u001b[39mif\u001b[39;00m vmin \u001b[39mis\u001b[39;00m \u001b[39mNone\u001b[39;00m:\n\u001b[0;32m    468\u001b[0m         vmin \u001b[39m=\u001b[39m anat_vmin\n",
      "File \u001b[1;32mc:\\Users\\keert\\project2\\mia38\\lib\\site-packages\\nilearn\\plotting\\img_plotting.py:374\u001b[0m, in \u001b[0;36m_load_anat\u001b[1;34m(anat_img, dim, black_bg)\u001b[0m\n\u001b[0;32m    372\u001b[0m         black_bg \u001b[39m=\u001b[39m \u001b[39mFalse\u001b[39;00m\n\u001b[0;32m    373\u001b[0m \u001b[39melse\u001b[39;00m:\n\u001b[1;32m--> 374\u001b[0m     anat_img \u001b[39m=\u001b[39m _utils\u001b[39m.\u001b[39;49mcheck_niimg_3d(anat_img)\n\u001b[0;32m    375\u001b[0m     \u001b[39m# Clean anat_img for non-finite values to avoid computing unnecessary\u001b[39;00m\n\u001b[0;32m    376\u001b[0m     \u001b[39m# border data values.\u001b[39;00m\n\u001b[0;32m    377\u001b[0m     data \u001b[39m=\u001b[39m _safe_get_data(anat_img, ensure_finite\u001b[39m=\u001b[39m\u001b[39mTrue\u001b[39;00m)\n",
      "File \u001b[1;32mc:\\Users\\keert\\project2\\mia38\\lib\\site-packages\\nilearn\\_utils\\niimg_conversions.py:371\u001b[0m, in \u001b[0;36mcheck_niimg_3d\u001b[1;34m(niimg, dtype)\u001b[0m\n\u001b[0;32m    337\u001b[0m \u001b[39mdef\u001b[39;00m \u001b[39mcheck_niimg_3d\u001b[39m(niimg, dtype\u001b[39m=\u001b[39m\u001b[39mNone\u001b[39;00m):\n\u001b[0;32m    338\u001b[0m \u001b[39m    \u001b[39m\u001b[39m\"\"\"Check that niimg is a proper 3D niimg-like object and load it.\u001b[39;00m\n\u001b[0;32m    339\u001b[0m \n\u001b[0;32m    340\u001b[0m \u001b[39m    Parameters\u001b[39;00m\n\u001b[1;32m   (...)\u001b[0m\n\u001b[0;32m    369\u001b[0m \n\u001b[0;32m    370\u001b[0m \u001b[39m    \"\"\"\u001b[39;00m\n\u001b[1;32m--> 371\u001b[0m     \u001b[39mreturn\u001b[39;00m check_niimg(niimg, ensure_ndim\u001b[39m=\u001b[39;49m\u001b[39m3\u001b[39;49m, dtype\u001b[39m=\u001b[39;49mdtype)\n",
      "File \u001b[1;32mc:\\Users\\keert\\project2\\mia38\\lib\\site-packages\\nilearn\\_utils\\niimg_conversions.py:313\u001b[0m, in \u001b[0;36mcheck_niimg\u001b[1;34m(niimg, ensure_ndim, atleast_4d, dtype, return_iterator, wildcards)\u001b[0m\n\u001b[0;32m    309\u001b[0m     \u001b[39mif\u001b[39;00m return_iterator:\n\u001b[0;32m    310\u001b[0m         \u001b[39mreturn\u001b[39;00m _iter_check_niimg(\n\u001b[0;32m    311\u001b[0m             niimg, ensure_ndim\u001b[39m=\u001b[39mensure_ndim, dtype\u001b[39m=\u001b[39mdtype\n\u001b[0;32m    312\u001b[0m         )\n\u001b[1;32m--> 313\u001b[0m     \u001b[39mreturn\u001b[39;00m concat_niimgs(niimg, ensure_ndim\u001b[39m=\u001b[39;49mensure_ndim, dtype\u001b[39m=\u001b[39;49mdtype)\n\u001b[0;32m    315\u001b[0m \u001b[39m# Otherwise, it should be a filename or a SpatialImage, we load it\u001b[39;00m\n\u001b[0;32m    316\u001b[0m niimg \u001b[39m=\u001b[39m load_niimg(niimg, dtype\u001b[39m=\u001b[39mdtype)\n",
      "File \u001b[1;32mc:\\Users\\keert\\project2\\mia38\\lib\\site-packages\\nilearn\\_utils\\niimg_conversions.py:490\u001b[0m, in \u001b[0;36mconcat_niimgs\u001b[1;34m(niimgs, dtype, ensure_ndim, memory, memory_level, auto_resample, verbose)\u001b[0m\n\u001b[0;32m    488\u001b[0m iterator, literator \u001b[39m=\u001b[39m itertools\u001b[39m.\u001b[39mtee(\u001b[39miter\u001b[39m(niimgs))\n\u001b[0;32m    489\u001b[0m \u001b[39mtry\u001b[39;00m:\n\u001b[1;32m--> 490\u001b[0m     first_niimg \u001b[39m=\u001b[39m check_niimg(\u001b[39mnext\u001b[39;49m(literator), ensure_ndim\u001b[39m=\u001b[39;49mndim)\n\u001b[0;32m    491\u001b[0m \u001b[39mexcept\u001b[39;00m \u001b[39mStopIteration\u001b[39;00m:\n\u001b[0;32m    492\u001b[0m     \u001b[39mraise\u001b[39;00m \u001b[39mTypeError\u001b[39;00m(\u001b[39m\"\u001b[39m\u001b[39mCannot concatenate empty objects\u001b[39m\u001b[39m\"\u001b[39m)\n",
      "File \u001b[1;32mc:\\Users\\keert\\project2\\mia38\\lib\\site-packages\\nilearn\\_utils\\niimg_conversions.py:316\u001b[0m, in \u001b[0;36mcheck_niimg\u001b[1;34m(niimg, ensure_ndim, atleast_4d, dtype, return_iterator, wildcards)\u001b[0m\n\u001b[0;32m    313\u001b[0m     \u001b[39mreturn\u001b[39;00m concat_niimgs(niimg, ensure_ndim\u001b[39m=\u001b[39mensure_ndim, dtype\u001b[39m=\u001b[39mdtype)\n\u001b[0;32m    315\u001b[0m \u001b[39m# Otherwise, it should be a filename or a SpatialImage, we load it\u001b[39;00m\n\u001b[1;32m--> 316\u001b[0m niimg \u001b[39m=\u001b[39m load_niimg(niimg, dtype\u001b[39m=\u001b[39;49mdtype)\n\u001b[0;32m    318\u001b[0m \u001b[39mif\u001b[39;00m ensure_ndim \u001b[39m==\u001b[39m \u001b[39m3\u001b[39m \u001b[39mand\u001b[39;00m \u001b[39mlen\u001b[39m(niimg\u001b[39m.\u001b[39mshape) \u001b[39m==\u001b[39m \u001b[39m4\u001b[39m \u001b[39mand\u001b[39;00m niimg\u001b[39m.\u001b[39mshape[\u001b[39m3\u001b[39m] \u001b[39m==\u001b[39m \u001b[39m1\u001b[39m:\n\u001b[0;32m    319\u001b[0m     \u001b[39m# \"squeeze\" the image.\u001b[39;00m\n\u001b[0;32m    320\u001b[0m     data \u001b[39m=\u001b[39m _safe_get_data(niimg)\n",
      "File \u001b[1;32mc:\\Users\\keert\\project2\\mia38\\lib\\site-packages\\nilearn\\_utils\\niimg.py:128\u001b[0m, in \u001b[0;36mload_niimg\u001b[1;34m(niimg, dtype)\u001b[0m\n\u001b[0;32m    126\u001b[0m     niimg \u001b[39m=\u001b[39m nibabel\u001b[39m.\u001b[39mload(niimg)\n\u001b[0;32m    127\u001b[0m \u001b[39melif\u001b[39;00m \u001b[39mnot\u001b[39;00m \u001b[39misinstance\u001b[39m(niimg, nibabel\u001b[39m.\u001b[39mspatialimages\u001b[39m.\u001b[39mSpatialImage):\n\u001b[1;32m--> 128\u001b[0m     \u001b[39mraise\u001b[39;00m \u001b[39mTypeError\u001b[39;00m(\n\u001b[0;32m    129\u001b[0m         \u001b[39m\"\u001b[39m\u001b[39mData given cannot be loaded because it is\u001b[39m\u001b[39m\"\u001b[39m\n\u001b[0;32m    130\u001b[0m         \u001b[39m\"\u001b[39m\u001b[39m not compatible with nibabel format:\u001b[39m\u001b[39m\\n\u001b[39;00m\u001b[39m\"\u001b[39m\n\u001b[0;32m    131\u001b[0m         \u001b[39m+\u001b[39m _repr_niimgs(niimg, shorten\u001b[39m=\u001b[39m\u001b[39mTrue\u001b[39;00m)\n\u001b[0;32m    132\u001b[0m     )\n\u001b[0;32m    134\u001b[0m dtype \u001b[39m=\u001b[39m _get_target_dtype(_get_data(niimg)\u001b[39m.\u001b[39mdtype, dtype)\n\u001b[0;32m    136\u001b[0m \u001b[39mif\u001b[39;00m dtype \u001b[39mis\u001b[39;00m \u001b[39mnot\u001b[39;00m \u001b[39mNone\u001b[39;00m:\n\u001b[0;32m    137\u001b[0m     \u001b[39m# Copyheader and set dtype in header if header exists\u001b[39;00m\n",
      "\u001b[1;31mTypeError\u001b[0m: Data given cannot be loaded because it is not compatible with nibabel format:\n0"
     ]
    }
   ],
   "source": [
    "import os\n",
    "import subprocess\n",
    "import os\n",
    "import shlex\n",
    "import subprocess\n",
    "import multiprocessing as mp\n",
    "from nilearn import plotting\n",
    "import matplotlib\n",
    "import matplotlib.pyplot as plt\n",
    "import nibabel as nib\n",
    "\n",
    "def display_image(input_image_file, title):\n",
    "    \"\"\"\n",
    "    Display NIfTI image using nilearn.\n",
    "    \n",
    "    Args:\n",
    "        input_image_file (str): Path to the original NIfTI file.\n",
    "        output_image_file (str): Path to the skull-stripped NIfTI file.\n",
    "        title (str): Title of the plot.\n",
    "    \"\"\"\n",
    "    plotting.plot_anat(input_image_file, title=title + \" Original\", display_mode='ortho')\n",
    "    plotting.show()\n",
    "\n",
    "display_image('../data/input/ref.nii.gz','Ref')\n",
    "display_image('../data/input/E03/T1w_1mm.nii.gz','T1w')\n",
    "display_image('../data/input/output/E03/T1w_1mm.nii.gz','Skull Stripped')\n",
    "\n",
    "import SimpleITK as sitk\n",
    "\n",
    "# Load the image\n",
    "image1 = sitk.ReadImage('../data/input/ref.nii.gz')\n",
    "\n",
    "# Get the size of the image\n",
    "size = image1.GetSize()\n",
    "\n",
    "# Print the size of the image\n",
    "print('Image size:', size)\n",
    "\n",
    "display_image(image1, 'original')\n",
    "\n",
    "# Load the image\n",
    "image2 = sitk.ReadImage('../data/input/output/E03/T1w_1mm.nii.gz')\n",
    "\n",
    "# Get the size of the image\n",
    "size = image2.GetSize()\n",
    "\n",
    "# Print the size of the image\n",
    "print('Image size:', size)\n",
    "\n",
    "\n"
   ]
  }
 ],
 "metadata": {
  "kernelspec": {
   "display_name": "Python 3",
   "language": "python",
   "name": "python3"
  },
  "language_info": {
   "codemirror_mode": {
    "name": "ipython",
    "version": 3
   },
   "file_extension": ".py",
   "mimetype": "text/x-python",
   "name": "python",
   "nbconvert_exporter": "python",
   "pygments_lexer": "ipython3",
   "version": "3.8.10"
  },
  "orig_nbformat": 4
 },
 "nbformat": 4,
 "nbformat_minor": 2
}
