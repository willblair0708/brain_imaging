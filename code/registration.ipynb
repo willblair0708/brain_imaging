{
 "cells": [
  {
   "cell_type": "code",
   "execution_count": 11,
   "metadata": {},
   "outputs": [
    {
     "name": "stdout",
     "output_type": "stream",
     "text": [
      "Dimensions of input/E03/T1w_1mm_mask_preprocessed.nii.gz: (160, 160, 192)\n",
      "Dimensions of /Users/williamblair/project2/data/input/ref.nii.gz: (160, 160, 192)\n"
     ]
    },
    {
     "name": "stderr",
     "output_type": "stream",
     "text": [
      "/Users/williamblair/project2/code/voxelmorph/voxelmorph/tf/networks.py:125: UserWarning: int_downsize is deprecated, use the int_resolution parameter.\n",
      "  warnings.warn('int_downsize is deprecated, use the int_resolution parameter.')\n",
      "/Users/williamblair/project2/code/voxelmorph/voxelmorph/tf/networks.py:130: UserWarning: unet_half_res is deprecated, use the svf_resolution parameter.\n",
      "  warnings.warn('unet_half_res is deprecated, use the svf_resolution parameter.')\n",
      "2023-05-08 22:57:15.169171: W tensorflow/tsl/platform/profile_utils/cpu_utils.cc:128] Failed to get CPU frequency: 0 Hz\n"
     ]
    },
    {
     "name": "stdout",
     "output_type": "stream",
     "text": [
      "1/1 [==============================] - 47s 47s/step\n",
      "1/1 [==============================] - 0s 415ms/step\n",
      "Dimensions of input/E03/T2w_1mm_noalign_mask_preprocessed.nii.gz: (160, 160, 192)\n",
      "Dimensions of /Users/williamblair/project2/data/input/ref.nii.gz: (160, 160, 192)\n"
     ]
    },
    {
     "name": "stderr",
     "output_type": "stream",
     "text": [
      "/Users/williamblair/project2/code/voxelmorph/voxelmorph/tf/networks.py:125: UserWarning: int_downsize is deprecated, use the int_resolution parameter.\n",
      "  warnings.warn('int_downsize is deprecated, use the int_resolution parameter.')\n",
      "/Users/williamblair/project2/code/voxelmorph/voxelmorph/tf/networks.py:130: UserWarning: unet_half_res is deprecated, use the svf_resolution parameter.\n",
      "  warnings.warn('unet_half_res is deprecated, use the svf_resolution parameter.')\n",
      "2023-05-08 22:58:09.301494: W tensorflow/tsl/platform/profile_utils/cpu_utils.cc:128] Failed to get CPU frequency: 0 Hz\n"
     ]
    },
    {
     "name": "stdout",
     "output_type": "stream",
     "text": [
      "1/1 [==============================] - 53s 53s/step\n",
      "1/1 [==============================] - 0s 446ms/step\n",
      "Dimensions of input/E03/ADC_deformed_mask_preprocessed.nii.gz: (160, 160, 192)\n",
      "Dimensions of /Users/williamblair/project2/data/input/ref.nii.gz: (160, 160, 192)\n"
     ]
    },
    {
     "name": "stderr",
     "output_type": "stream",
     "text": [
      "/Users/williamblair/project2/code/voxelmorph/voxelmorph/tf/networks.py:125: UserWarning: int_downsize is deprecated, use the int_resolution parameter.\n",
      "  warnings.warn('int_downsize is deprecated, use the int_resolution parameter.')\n",
      "/Users/williamblair/project2/code/voxelmorph/voxelmorph/tf/networks.py:130: UserWarning: unet_half_res is deprecated, use the svf_resolution parameter.\n",
      "  warnings.warn('unet_half_res is deprecated, use the svf_resolution parameter.')\n",
      "2023-05-08 22:59:09.554191: W tensorflow/tsl/platform/profile_utils/cpu_utils.cc:128] Failed to get CPU frequency: 0 Hz\n"
     ]
    },
    {
     "name": "stdout",
     "output_type": "stream",
     "text": [
      "1/1 [==============================] - 62s 62s/step\n",
      "1/1 [==============================] - 0s 463ms/step\n",
      "Dimensions of input/E03/FA_deformed_mask_preprocessed.nii.gz: (160, 160, 192)\n",
      "Dimensions of /Users/williamblair/project2/data/input/ref.nii.gz: (160, 160, 192)\n"
     ]
    },
    {
     "name": "stderr",
     "output_type": "stream",
     "text": [
      "/Users/williamblair/project2/code/voxelmorph/voxelmorph/tf/networks.py:125: UserWarning: int_downsize is deprecated, use the int_resolution parameter.\n",
      "  warnings.warn('int_downsize is deprecated, use the int_resolution parameter.')\n",
      "/Users/williamblair/project2/code/voxelmorph/voxelmorph/tf/networks.py:130: UserWarning: unet_half_res is deprecated, use the svf_resolution parameter.\n",
      "  warnings.warn('unet_half_res is deprecated, use the svf_resolution parameter.')\n",
      "2023-05-08 23:00:19.152081: W tensorflow/tsl/platform/profile_utils/cpu_utils.cc:128] Failed to get CPU frequency: 0 Hz\n"
     ]
    },
    {
     "name": "stdout",
     "output_type": "stream",
     "text": [
      "1/1 [==============================] - 75s 75s/step\n",
      "1/1 [==============================] - 1s 514ms/step\n"
     ]
    },
    {
     "data": {
      "text/plain": [
       "'\\ndef resize_volume(volume, target_shape):\\n    input_shape = np.array(volume.shape)\\n    target_shape = np.array(target_shape)\\n\\n    resize_factors = target_shape / input_shape\\n    resized_volume = zoom(volume, resize_factors, order=1)  # order=1 for bilinear interpolation\\n    \\n    return resized_volume\\n\\n'"
      ]
     },
     "execution_count": 11,
     "metadata": {},
     "output_type": "execute_result"
    }
   ],
   "source": [
    "import os\n",
    "import multiprocessing as mp\n",
    "import nibabel as nib\n",
    "import voxelmorph as vxm\n",
    "import tensorflow as tf\n",
    "import neurite as ne\n",
    "import subprocess\n",
    "import numpy as np\n",
    "from scipy.ndimage import zoom\n",
    "\n",
    "def print_image_dimensions(image_path):\n",
    "    img = nib.load(image_path)\n",
    "    print(f\"Dimensions of {image_path}: {img.shape}\")\n",
    "\n",
    "root_dir = os.path.abspath(os.path.join(os.getcwd(), os.pardir))\n",
    "\n",
    "def main():\n",
    "    # Change the working directory to the \"data\" folder\n",
    "    os.chdir('../data/input')\n",
    "\n",
    "    # Get the list of patient folders\n",
    "    patient_folders = [folder for folder in os.listdir() if os.path.isdir(folder) and folder.startswith('E')]\n",
    "\n",
    "    # Define the input image filenames and output names\n",
    "    input_output_filenames = {\n",
    "        'T1w_1mm_mask_preprocessed.nii.gz': 'T1w_align.nii.gz',\n",
    "        'T2w_1mm_noalign_mask_preprocessed.nii.gz': 'T2w_align.nii.gz',\n",
    "        'ADC_deformed_mask_preprocessed.nii.gz': 'ADC_align.nii.gz',\n",
    "        'FA_deformed_mask_preprocessed.nii.gz': 'FA_align.nii.gz'\n",
    "    }\n",
    "\n",
    "    # Load the T1w reference image\n",
    "    #ref_image_path = os.path.join(patient_folders[0], 'T1w_1mm_mask.nii.gz')\n",
    "    ref_image_path = os.path.abspath(os.path.join(root_dir, 'data', 'input', 'ref.nii.gz'))\n",
    "    #ref_image = nib.load(ref_image_path)\n",
    "    \n",
    "    # Load the pretrained VoxelMorph model called synthmorph\n",
    "    model_path = os.path.join(root_dir, 'code', 'models', 'brains-dice-vel-0.5-res-16-256f.h5')\n",
    "\n",
    "    # Change back to the data directory\n",
    "    os.chdir(os.path.join(root_dir, 'data'))\n",
    "\n",
    "   # Perform registration on each patient folder for each input image and save the output with the new name\n",
    "    for patient_folder in patient_folders:\n",
    "        output_path = os.path.join('../output', patient_folder)\n",
    "        \n",
    "        # Create the output directory if it does not exist\n",
    "        os.makedirs(output_path, exist_ok=True)\n",
    "\n",
    "        for input_image_filename, output_image_filename in input_output_filenames.items():\n",
    "            input_image_path = os.path.join('input', patient_folder, input_image_filename)\n",
    "            output_image_path = os.path.join(output_path, output_image_filename)\n",
    "\n",
    "            # Check image dimensions\n",
    "            print_image_dimensions(input_image_path)\n",
    "            print_image_dimensions(ref_image_path)\n",
    "            \n",
    "            # Perform registration using the register.py script\n",
    "            subprocess.call([\n",
    "                \"python\", os.path.join(root_dir, \"code\", \"voxelmorph\", \"scripts\", \"tf\", \"register.py\"),\n",
    "                \"--moving\", input_image_path,\n",
    "                \"--fixed\", ref_image_path,\n",
    "                \"--moved\", output_image_path,\n",
    "                \"--model\", model_path,\n",
    "                \"--gpu\", \"0\"\n",
    "            ])\n",
    "if __name__ == \"__main__\":\n",
    "    main()\n",
    "\n",
    "\"\"\"\n",
    "def resize_volume(volume, target_shape):\n",
    "    input_shape = np.array(volume.shape)\n",
    "    target_shape = np.array(target_shape)\n",
    "\n",
    "    resize_factors = target_shape / input_shape\n",
    "    resized_volume = zoom(volume, resize_factors, order=1)  # order=1 for bilinear interpolation\n",
    "    \n",
    "    return resized_volume\n",
    "\n",
    "\"\"\""
   ]
  }
 ],
 "metadata": {
  "kernelspec": {
   "display_name": "Python 3",
   "language": "python",
   "name": "python3"
  },
  "language_info": {
   "codemirror_mode": {
    "name": "ipython",
    "version": 3
   },
   "file_extension": ".py",
   "mimetype": "text/x-python",
   "name": "python",
   "nbconvert_exporter": "python",
   "pygments_lexer": "ipython3",
   "version": "3.8.16"
  },
  "orig_nbformat": 4
 },
 "nbformat": 4,
 "nbformat_minor": 2
}
