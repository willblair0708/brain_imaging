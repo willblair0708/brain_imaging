{
 "cells": [
  {
   "cell_type": "code",
   "execution_count": 1,
   "metadata": {},
   "outputs": [
    {
     "name": "stdout",
     "output_type": "stream",
     "text": [
      "Requirement already satisfied: SimpleITK in /Users/williamblair/williamblair/miniconda/envs/tensorflow/lib/python3.8/site-packages (2.2.1)\n"
     ]
    }
   ],
   "source": [
    "!pip install SimpleITK\n",
    "import os\n",
    "import glob\n",
    "import SimpleITK as sitk\n",
    "\n",
    "def normalize_image_intensity(image):\n",
    "    \"\"\"\n",
    "    Normalize the intensities of a given image to the range [0, 1].\n",
    "    \n",
    "    Args:\n",
    "        image (SimpleITK.Image): Input image.\n",
    "        \n",
    "    Returns:\n",
    "        SimpleITK.Image: Normalized image.\n",
    "    \"\"\"\n",
    "    image_array = sitk.GetArrayFromImage(image)\n",
    "    min_intensity = image_array.min()\n",
    "    max_intensity = image_array.max()\n",
    "\n",
    "    return (image - min_intensity) / (max_intensity - min_intensity)\n",
    "\n",
    "def resample_image(image, reference_image, interpolator=sitk.sitkLinear):\n",
    "    \"\"\"\n",
    "    Resample the input image in the affine space of the reference image.\n",
    "    \n",
    "    Args:\n",
    "        image (SimpleITK.Image): Input image to be resampled.\n",
    "        reference_image (SimpleITK.Image): Reference image with desired affine space.\n",
    "        interpolator (SimpleITK.InterpolatorEnum): Interpolator type (default: sitk.sitkLinear).\n",
    "        \n",
    "    Returns:\n",
    "        SimpleITK.Image: Resampled image.\n",
    "    \"\"\"\n",
    "    resampler = sitk.ResampleImageFilter()\n",
    "    resampler.SetReferenceImage(reference_image)\n",
    "    resampler.SetInterpolator(interpolator)\n",
    "\n",
    "    return resampler.Execute(image)\n",
    "\n",
    "def main():\n",
    "    # Set the working directory to the \"data/input\" folder\n",
    "    os.chdir('../data/input')\n",
    "    \n",
    "    # Get the list of patient folders\n",
    "    patient_folders = [folder for folder in os.listdir() if os.path.isdir(folder) and folder.startswith('E')]\n",
    "    \n",
    "    for patient_folder in patient_folders:\n",
    "        input_folder = os.path.abspath(patient_folder)\n",
    "        \n",
    "        # Read the reference image (T1w_1mm.nii.gz)\n",
    "        reference_image_file = os.path.join(patient_folder,\"output\",'T1w_1mm.nii.gz')\n",
    "        reference_image = sitk.ReadImage(reference_image_file)\n",
    "        \n",
    "        # Process each modality\n",
    "        for modality in ['T2w_1mm_noalign_mask', 'FA_deformed_mask', 'ADC_deformed_mask']:\n",
    "            input_image_file = os.path.join(input_folder,\"output\", f'{modality}.nii.gz')\n",
    "            image = sitk.ReadImage(input_image_file)\n",
    "\n",
    "            # Normalize the input image and resample to the reference image space\n",
    "            normalized_image = normalize_image_intensity(image)\n",
    "            resampled_image = resample_image(normalized_image, reference_image)\n",
    "\n",
    "            # Save the output image\n",
    "            output_image_file = os.path.join(input_folder,\"output\", f'{modality}_preprocessed.nii.gz')\n",
    "            sitk.WriteImage(resampled_image, output_image_file)\n",
    "\n",
    "if __name__ == \"__main__\":\n",
    "    main()"
   ]
  }
 ],
 "metadata": {
  "kernelspec": {
   "display_name": "Python 3",
   "language": "python",
   "name": "python3"
  },
  "language_info": {
   "codemirror_mode": {
    "name": "ipython",
    "version": 3
   },
   "file_extension": ".py",
   "mimetype": "text/x-python",
   "name": "python",
   "nbconvert_exporter": "python",
   "pygments_lexer": "ipython3",
   "version": "3.8.16"
  },
  "orig_nbformat": 4
 },
 "nbformat": 4,
 "nbformat_minor": 2
}
