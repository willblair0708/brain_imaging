{
 "cells": [
  {
   "cell_type": "code",
   "execution_count": 1,
   "metadata": {},
   "outputs": [
    {
     "name": "stdout",
     "output_type": "stream",
     "text": [
      "/Users/williamblair/project2/code\n",
      "/Users/williamblair/project2/HD-BET\n",
      "Obtaining file:///Users/williamblair/project2/HD-BET\n",
      "  Preparing metadata (setup.py) ... \u001b[?25ldone\n",
      "\u001b[?25hRequirement already satisfied: numpy in /Users/williamblair/williamblair/miniconda/lib/python3.10/site-packages (from HD-BET==1.0) (1.23.5)\n",
      "Requirement already satisfied: torch>=0.4.1 in /Users/williamblair/williamblair/miniconda/lib/python3.10/site-packages (from HD-BET==1.0) (2.0.0)\n",
      "Requirement already satisfied: scikit-image in /Users/williamblair/williamblair/miniconda/lib/python3.10/site-packages (from HD-BET==1.0) (0.19.3)\n",
      "Requirement already satisfied: SimpleITK in /Users/williamblair/williamblair/miniconda/lib/python3.10/site-packages (from HD-BET==1.0) (2.2.1)\n",
      "Requirement already satisfied: jinja2 in /Users/williamblair/williamblair/miniconda/lib/python3.10/site-packages (from torch>=0.4.1->HD-BET==1.0) (3.1.2)\n",
      "Requirement already satisfied: typing-extensions in /Users/williamblair/williamblair/miniconda/lib/python3.10/site-packages (from torch>=0.4.1->HD-BET==1.0) (4.4.0)\n",
      "Requirement already satisfied: filelock in /Users/williamblair/williamblair/miniconda/lib/python3.10/site-packages (from torch>=0.4.1->HD-BET==1.0) (3.11.0)\n",
      "Requirement already satisfied: sympy in /Users/williamblair/williamblair/miniconda/lib/python3.10/site-packages (from torch>=0.4.1->HD-BET==1.0) (1.11.1)\n",
      "Requirement already satisfied: networkx in /Users/williamblair/williamblair/miniconda/lib/python3.10/site-packages (from torch>=0.4.1->HD-BET==1.0) (3.0)\n",
      "Requirement already satisfied: PyWavelets>=1.1.1 in /Users/williamblair/williamblair/miniconda/lib/python3.10/site-packages (from scikit-image->HD-BET==1.0) (1.4.1)\n",
      "Requirement already satisfied: packaging>=20.0 in /Users/williamblair/williamblair/miniconda/lib/python3.10/site-packages (from scikit-image->HD-BET==1.0) (23.0)\n",
      "Requirement already satisfied: scipy>=1.4.1 in /Users/williamblair/williamblair/miniconda/lib/python3.10/site-packages (from scikit-image->HD-BET==1.0) (1.10.0)\n",
      "Requirement already satisfied: imageio>=2.4.1 in /Users/williamblair/williamblair/miniconda/lib/python3.10/site-packages (from scikit-image->HD-BET==1.0) (2.25.0)\n",
      "Requirement already satisfied: pillow!=7.1.0,!=7.1.1,!=8.3.0,>=6.1.0 in /Users/williamblair/williamblair/miniconda/lib/python3.10/site-packages (from scikit-image->HD-BET==1.0) (9.4.0)\n",
      "Requirement already satisfied: tifffile>=2019.7.26 in /Users/williamblair/williamblair/miniconda/lib/python3.10/site-packages (from scikit-image->HD-BET==1.0) (2023.2.3)\n",
      "Requirement already satisfied: MarkupSafe>=2.0 in /Users/williamblair/williamblair/miniconda/lib/python3.10/site-packages (from jinja2->torch>=0.4.1->HD-BET==1.0) (2.1.1)\n",
      "Requirement already satisfied: mpmath>=0.19 in /Users/williamblair/williamblair/miniconda/lib/python3.10/site-packages (from sympy->torch>=0.4.1->HD-BET==1.0) (1.3.0)\n",
      "Installing collected packages: HD-BET\n",
      "  Attempting uninstall: HD-BET\n",
      "    Found existing installation: HD-BET 1.0\n",
      "    Uninstalling HD-BET-1.0:\n",
      "      Successfully uninstalled HD-BET-1.0\n",
      "  Running setup.py develop for HD-BET\n"
     ]
    }
   ],
   "source": [
    "!pwd\n",
    "import os\n",
    "os.chdir('../HD-BET')\n",
    "!pwd\n",
    "!pip install -e .\n",
    "os.chdir('../code')"
   ]
  },
  {
   "cell_type": "code",
   "execution_count": null,
   "metadata": {},
   "outputs": [
    {
     "ename": "FileNotFoundError",
     "evalue": "[Errno 2] No such file or directory: '../data/input'",
     "output_type": "error",
     "traceback": [
      "\u001b[0;31m---------------------------------------------------------------------------\u001b[0m",
      "\u001b[0;31mFileNotFoundError\u001b[0m                         Traceback (most recent call last)",
      "Cell \u001b[0;32mIn[6], line 36\u001b[0m\n\u001b[1;32m     33\u001b[0m         subprocess\u001b[39m.\u001b[39mrun(command, shell\u001b[39m=\u001b[39m\u001b[39mTrue\u001b[39;00m)\n\u001b[1;32m     35\u001b[0m \u001b[39mif\u001b[39;00m \u001b[39m__name__\u001b[39m \u001b[39m==\u001b[39m \u001b[39m\"\u001b[39m\u001b[39m__main__\u001b[39m\u001b[39m\"\u001b[39m:\n\u001b[0;32m---> 36\u001b[0m     main()\n\u001b[1;32m     38\u001b[0m \u001b[39mdef\u001b[39;00m \u001b[39mdisplay_image\u001b[39m(input_image_file, output_image_file, title):\n\u001b[1;32m     39\u001b[0m     \u001b[39m\"\"\"\u001b[39;00m\n\u001b[1;32m     40\u001b[0m \u001b[39m    Display NIfTI image using nilearn.\u001b[39;00m\n\u001b[1;32m     41\u001b[0m \u001b[39m    \u001b[39;00m\n\u001b[0;32m   (...)\u001b[0m\n\u001b[1;32m     45\u001b[0m \u001b[39m        title (str): Title of the plot.\u001b[39;00m\n\u001b[1;32m     46\u001b[0m \u001b[39m    \"\"\"\u001b[39;00m\n",
      "Cell \u001b[0;32mIn[6], line 16\u001b[0m, in \u001b[0;36mmain\u001b[0;34m()\u001b[0m\n\u001b[1;32m     14\u001b[0m \u001b[39mdef\u001b[39;00m \u001b[39mmain\u001b[39m():\n\u001b[1;32m     15\u001b[0m     \u001b[39m# Change the working directory to the \"data\" folder\u001b[39;00m\n\u001b[0;32m---> 16\u001b[0m     os\u001b[39m.\u001b[39;49mchdir(\u001b[39m'\u001b[39;49m\u001b[39m../data/input\u001b[39;49m\u001b[39m'\u001b[39;49m)\n\u001b[1;32m     18\u001b[0m     \u001b[39m# Get the list of patient folders\u001b[39;00m\n\u001b[1;32m     19\u001b[0m     patient_folders \u001b[39m=\u001b[39m [folder \u001b[39mfor\u001b[39;00m folder \u001b[39min\u001b[39;00m os\u001b[39m.\u001b[39mlistdir() \u001b[39mif\u001b[39;00m os\u001b[39m.\u001b[39mpath\u001b[39m.\u001b[39misdir(folder) \u001b[39mand\u001b[39;00m folder\u001b[39m.\u001b[39mstartswith(\u001b[39m'\u001b[39m\u001b[39mE\u001b[39m\u001b[39m'\u001b[39m)]\n",
      "\u001b[0;31mFileNotFoundError\u001b[0m: [Errno 2] No such file or directory: '../data/input'"
     ]
    }
   ],
   "source": [
    "import os\n",
    "import subprocess\n",
    "import os\n",
    "import shlex\n",
    "import subprocess\n",
    "import multiprocessing as mp\n",
    "from nilearn import plotting\n",
    "import matplotlib\n",
    "import matplotlib.pyplot as plt\n",
    "import nibabel as nib\n",
    "\n",
    "root_dir = os.path.abspath(os.path.join(os.getcwd(), os.pardir))\n",
    "\n",
    "def main():\n",
    "    # Change the working directory to the \"data\" folder\n",
    "    os.chdir('../data/input')\n",
    "\n",
    "    # Get the list of patient folders\n",
    "    patient_folders = [folder for folder in os.listdir() if os.path.isdir(folder) and folder.startswith('E')]\n",
    "\n",
    "    # Create the \"output\" subfolder in each patient folder if it doesn't exist\n",
    "    for patient_folder in patient_folders:\n",
    "        output_path = os.path.join(patient_folder, 'output')\n",
    "        if not os.path.exists(output_path):\n",
    "            os.makedirs(output_path)\n",
    "\n",
    "    # Run BET on each patient folder for each input image and save the output with the same name\n",
    "    for patient_folder in patient_folders:\n",
    "        input_folder = os.path.abspath(patient_folder)\n",
    "        output_folder = os.path.abspath(os.path.join(patient_folder, 'output'))\n",
    "\n",
    "        command = f'hd-bet -i \"{input_folder}\" -o \"{output_folder}\" -device cpu -mode fast -tta 0'\n",
    "        subprocess.run(command, shell=True)\n",
    "\n",
    "if __name__ == \"__main__\":\n",
    "    main()\n",
    "\n",
    "def display_image(input_image_file, output_image_file, title):\n",
    "    \"\"\"\n",
    "    Display NIfTI image using nilearn.\n",
    "    \n",
    "    Args:\n",
    "        input_image_file (str): Path to the original NIfTI file.\n",
    "        output_image_file (str): Path to the skull-stripped NIfTI file.\n",
    "        title (str): Title of the plot.\n",
    "    \"\"\"\n",
    "    plotting.plot_anat(input_image_file, title=title + \" Original\", display_mode='ortho')\n",
    "    plotting.plot_anat(output_image_file, title=title + \" Skull Stripped\", display_mode='ortho')\n",
    "    plotting.show()\n",
    "\n",
    "display_image(os.path.join(root_dir, 'data', 'input', 'E03', \"T2w_1mm_noalign.nii.gz\"),\n",
    "              os.path.join(root_dir, 'data', 'input', 'E03', 'output', \"T2w_1mm_noalign.nii.gz\"),\n",
    "              \"T2w\")\n",
    "\n",
    "display_image(os.path.join(root_dir, 'data', 'input', 'E03', \"T1w_1mm.nii.gz\"),\n",
    "              os.path.join(root_dir, 'data', 'input', 'E03', 'output', \"T1w_1mm.nii.gz\"),\n",
    "              \"T1w\")\n",
    "\n",
    "display_image(os.path.join(root_dir, 'data', 'input', 'E03', \"ADC_deformed.nii.gz\"),\n",
    "              os.path.join(root_dir, 'data', 'input', 'E03', 'output', \"ADC_deformed.nii.gz\"),\n",
    "              \"ADC\")\n",
    "\n",
    "display_image(os.path.join(root_dir, 'data', 'input', 'E03', \"FA_deformed.nii.gz\"),\n",
    "              os.path.join(root_dir, 'data', 'input', 'E03', 'output', \"FA_deformed.nii.gz\"),\n",
    "              \"FA\")\n",
    "\n",
    "\n",
    "#change back to code directory\n",
    "os.chdir('..')\n",
    "os.chdir('..')\n",
    "os.chdir('code')"
   ]
  }
 ],
 "metadata": {
  "kernelspec": {
   "display_name": "Python 3",
   "language": "python",
   "name": "python3"
  },
  "language_info": {
   "codemirror_mode": {
    "name": "ipython",
    "version": 3
   },
   "file_extension": ".py",
   "mimetype": "text/x-python",
   "name": "python",
   "nbconvert_exporter": "python",
   "pygments_lexer": "ipython3",
   "version": "3.10.10"
  },
  "orig_nbformat": 4
 },
 "nbformat": 4,
 "nbformat_minor": 2
}
