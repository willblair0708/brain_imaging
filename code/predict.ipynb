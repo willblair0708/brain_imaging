{
 "cells": [
  {
   "cell_type": "code",
   "execution_count": null,
   "metadata": {},
   "outputs": [],
   "source": [
    "import os\n",
    "import torch\n",
    "import torch.nn as nn\n",
    "import torch.optim as optim\n",
    "from torch.utils.data import Dataset, DataLoader\n",
    "from torchvision.transforms import Compose\n",
    "import nibabel as nib\n",
    "import numpy as np\n",
    "from tqdm import tqdm\n",
    "from model import *\n",
    "\n",
    "def synthesize_maps(unet, t1w_image, t2w_image, device):\n",
    "    unet.eval()\n",
    "    unet.to(device)\n",
    "\n",
    "    input_image = np.stack([t1w_image, t2w_image], axis=0)\n",
    "    input_tensor = torch.tensor(input_image, dtype=torch.float32).unsqueeze(0).to(device)\n",
    "\n",
    "    with torch.no_grad():\n",
    "        output_tensor = unet(input_tensor)\n",
    "\n",
    "    fa_map, adc_map = output_tensor.squeeze(0).cpu().numpy()\n",
    "    return fa_map, adc_map\n",
    "\n",
    "if __name__ == \"__main__\":\n",
    "    # Load the trained U-Net model\n",
    "    unet = initialize_unet(in_channels=2, out_channels=2)\n",
    "    unet.load_state_dict(torch.load(os.path.join(data_dir, \"unet_model.pth\")))\n",
    "    print(\"Model loaded.\")\n",
    "\n",
    "    # Load new T1w and T2w images for synthesis\n",
    "    new_t1w_image = nib.load(\"path/to/new/T1w_image.nii.gz\").get_fdata()\n",
    "    new_t2w_image = nib.load(\"path/to/new/T2w_image.nii.gz\").get_fdata()\n",
    "\n",
    "    # Synthesize FA and ADC maps\n",
    "    synthesized_fa_map, synthesized_adc_map = synthesize_maps(unet, new_t1w_image, new_t2w_image, device)\n",
    "\n",
    "    # Save synthesized maps as NIfTI files\n",
    "    nib.save(nib.Nifti1Image(synthesized_fa_map, np.eye(4)), \"path/to/output/FA_map.nii.gz\")\n",
    "    nib.save(nib.Nifti1Image(synthesized_adc_map, np.eye(4)), \"path/to/output/ADC_map.nii.gz\")\n",
    "\n",
    "    print(\"Synthesized FA and ADC maps saved.\")\n"
   ]
  }
 ],
 "metadata": {
  "language_info": {
   "name": "python"
  },
  "orig_nbformat": 4
 },
 "nbformat": 4,
 "nbformat_minor": 2
}
