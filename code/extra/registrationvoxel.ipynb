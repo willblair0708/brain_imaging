{
 "cells": [
  {
   "cell_type": "code",
   "execution_count": 1,
   "metadata": {},
   "outputs": [
    {
     "ename": "ModuleNotFoundError",
     "evalue": "No module named 'voxelmorph.layers'",
     "output_type": "error",
     "traceback": [
      "\u001b[0;31m---------------------------------------------------------------------------\u001b[0m",
      "\u001b[0;31mModuleNotFoundError\u001b[0m                       Traceback (most recent call last)",
      "Cell \u001b[0;32mIn[1], line 8\u001b[0m\n\u001b[1;32m      6\u001b[0m \u001b[39mimport\u001b[39;00m \u001b[39mvoxelmorph\u001b[39;00m \u001b[39mas\u001b[39;00m \u001b[39mvxm\u001b[39;00m\n\u001b[1;32m      7\u001b[0m \u001b[39mimport\u001b[39;00m \u001b[39mtensorflow\u001b[39;00m \u001b[39mas\u001b[39;00m \u001b[39mtf\u001b[39;00m\n\u001b[0;32m----> 8\u001b[0m \u001b[39mfrom\u001b[39;00m \u001b[39mvoxelmorph\u001b[39;00m\u001b[39m.\u001b[39;00m\u001b[39mlayers\u001b[39;00m \u001b[39mimport\u001b[39;00m VxmDense\n\u001b[1;32m     10\u001b[0m root_dir \u001b[39m=\u001b[39m os\u001b[39m.\u001b[39mpath\u001b[39m.\u001b[39mabspath(os\u001b[39m.\u001b[39mpath\u001b[39m.\u001b[39mjoin(os\u001b[39m.\u001b[39mgetcwd(), os\u001b[39m.\u001b[39mpardir))\n\u001b[1;32m     12\u001b[0m \u001b[39mdef\u001b[39;00m \u001b[39mmain\u001b[39m():\n\u001b[1;32m     13\u001b[0m     \u001b[39m# Change the working directory to the \"data\" folder\u001b[39;00m\n",
      "\u001b[0;31mModuleNotFoundError\u001b[0m: No module named 'voxelmorph.layers'"
     ]
    }
   ],
   "source": [
    "import os\n",
    "import subprocess\n",
    "import multiprocessing as mp\n",
    "from nilearn import plotting\n",
    "import nibabel as nib\n",
    "import voxelmorph as vxm\n",
    "import tensorflow as tf\n",
    "from voxelmorph.layers import VxmDense\n",
    "\n",
    "root_dir = os.path.abspath(os.path.join(os.getcwd(), os.pardir))\n",
    "\n",
    "def main():\n",
    "    # Change the working directory to the \"data\" folder\n",
    "    os.chdir('../data/input')\n",
    "\n",
    "    # Get the list of patient folders\n",
    "    patient_folders = [folder for folder in os.listdir() if os.path.isdir(folder) and folder.startswith('E')]\n",
    "\n",
    "    # Define the input image filenames and output names\n",
    "    input_output_filenames = {\n",
    "        'T1w_1mm_mask.nii.gz': 'T1w_align.nii.gz',\n",
    "        'T2w_1mm_noalign_mask.nii.gz': 'T2w_align.nii.gz',\n",
    "        'ADC_deformed_mask.nii.gz': 'ADC_align.nii.gz',\n",
    "        'FA_deformed_mask.nii.gz': 'FA_align.nii.gz'\n",
    "    }\n",
    "\n",
    "    # Load the T1w reference image\n",
    "    ref_image_path = os.path.join('input', patient_folders[0], 'T1w_1mm_mask.nii.gz')\n",
    "    ref_image = nib.load(ref_image_path)\n",
    "    \n",
    "    # Load the pretrained VoxelMorph model called synthmorph\n",
    "    model_path = os.path.join(root_dir, 'code', 'models', 'brains-dice-vel-0.5-res-16-256f.h5')\n",
    "    custom_objects = {'VxmDense': VxmDense}\n",
    "    model = tf.keras.models.load_model(model_path, compile=False, custom_objects=custom_objects)\n",
    "\n",
    "    # Perform registration on each patient folder for each input image and save the output with the new name\n",
    "    for patient_folder in patient_folders:\n",
    "        for input_image_filename, output_image_filename in input_output_filenames.items():\n",
    "            input_image_path = os.path.join('input', patient_folder, input_image_filename)\n",
    "            output_image_path = os.path.join(patient_folder, output_image_filename)\n",
    "\n",
    "            # Load the input image\n",
    "            moving_image = nib.load(input_image_path)\n",
    "\n",
    "            # Perform registration\n",
    "            warped_image, warp_field = model.register(ref_image, moving_image)\n",
    "\n",
    "            # Save registered image\n",
    "            nib.save(warped_image, output_image_path)\n",
    "\n",
    "if __name__ == \"__main__\":\n",
    "    main()"
   ]
  }
 ],
 "metadata": {
  "kernelspec": {
   "display_name": "Python 3",
   "language": "python",
   "name": "python3"
  },
  "language_info": {
   "codemirror_mode": {
    "name": "ipython",
    "version": 3
   },
   "file_extension": ".py",
   "mimetype": "text/x-python",
   "name": "python",
   "nbconvert_exporter": "python",
   "pygments_lexer": "ipython3",
   "version": "3.8.16"
  },
  "orig_nbformat": 4
 },
 "nbformat": 4,
 "nbformat_minor": 2
}
